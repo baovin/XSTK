{
  "nbformat": 4,
  "nbformat_minor": 0,
  "metadata": {
    "colab": {
      "name": "Đáp án bài tập thực hành Lesson 10.ipynb",
      "provenance": [],
      "collapsed_sections": []
    },
    "kernelspec": {
      "name": "python3",
      "display_name": "Python 3"
    }
  },
  "cells": [
    {
      "cell_type": "code",
      "metadata": {
        "id": "21-CPWz58Ypq"
      },
      "source": [
        "# nhập dữ liệu\n",
        "import numpy as np\n",
        "import pandas as pd\n",
        "from scipy.stats import t\n",
        "df = pd.read_csv(\"/content/drive/My Drive/Dataset/Lesson10_DataBTTH1.csv\")\n",
        "df.head()"
      ],
      "execution_count": null,
      "outputs": []
    },
    {
      "cell_type": "code",
      "metadata": {
        "id": "vdf--GLO3tJG"
      },
      "source": [
        "# định nghĩa output\n",
        "y = df.values[:,3]\n",
        "n=len(y)\n",
        "y=y.reshape((n,1))\n",
        "print(y)"
      ],
      "execution_count": null,
      "outputs": []
    },
    {
      "cell_type": "code",
      "metadata": {
        "id": "vvLwNfnkADI-",
        "colab": {
          "base_uri": "https://localhost:8080/"
        },
        "outputId": "94b51661-39bf-4271-f205-e61b4a88558e"
      },
      "source": [
        "from google.colab import drive\n",
        "drive.mount('/content/drive')"
      ],
      "execution_count": 54,
      "outputs": [
        {
          "output_type": "stream",
          "text": [
            "Drive already mounted at /content/drive; to attempt to forcibly remount, call drive.mount(\"/content/drive\", force_remount=True).\n"
          ],
          "name": "stdout"
        }
      ]
    },
    {
      "cell_type": "code",
      "metadata": {
        "id": "eWJUvYtA3y4i"
      },
      "source": [
        "# định nghĩa input\n",
        "x = df.values[:,0:3]\n",
        "x=x.reshape((n,3))\n",
        "print(x)"
      ],
      "execution_count": null,
      "outputs": []
    },
    {
      "cell_type": "code",
      "metadata": {
        "id": "EyeN6fHj4ExM",
        "colab": {
          "base_uri": "https://localhost:8080/"
        },
        "outputId": "92ad0ba9-0ddd-4789-c8ff-60d7230ed81b"
      },
      "source": [
        "# câu 1: uoc luong he so hoi quy\n",
        "A=np.ones(len(y))\n",
        "A=A.reshape((n,1))\n",
        "X=np.concatenate((A,x),axis=1)\n",
        "beta_hat = np.linalg.inv(X.T.dot(X)).dot(X.T).dot(y)\n",
        "print(beta_hat)"
      ],
      "execution_count": 57,
      "outputs": [
        {
          "output_type": "stream",
          "text": [
            "[[-4.82511947]\n",
            " [-9.22716036]\n",
            " [ 0.63825804]\n",
            " [17.63203333]]\n"
          ],
          "name": "stdout"
        }
      ]
    },
    {
      "cell_type": "markdown",
      "metadata": {
        "id": "Q1OBx-CX_d-q"
      },
      "source": [
        "ước lượng củ hệ số hồi quy  $\\beta = (\\beta_0, \\beta_1, \\beta_2,\\beta_3)$ là (-4.82511947; -9.22716036; 0.63825804; 17.63203333)"
      ]
    },
    {
      "cell_type": "code",
      "metadata": {
        "id": "X_VKd_q1H6k9",
        "colab": {
          "base_uri": "https://localhost:8080/"
        },
        "outputId": "790e8ff9-88fa-4533-9c81-49739473c150"
      },
      "source": [
        "# câu 1: dự báo bien Y\n",
        "Xnew=np.array([1, 14.5,225,5.5])\n",
        "Xnew = Xnew.reshape(1,len(Xnew))\n",
        "yhat1 = Xnew.dot(beta_hat)\n",
        "print(yhat1)"
      ],
      "execution_count": 58,
      "outputs": [
        {
          "output_type": "stream",
          "text": [
            "[[101.9652982]]\n"
          ],
          "name": "stdout"
        }
      ]
    },
    {
      "cell_type": "markdown",
      "metadata": {
        "id": "ztgqoMyu_6ar"
      },
      "source": [
        "dự báo hệ số khuếch đại của một thiết bị transistor HFE ($y$) với ba thông số: cực phát – RS $x_1 = 14.5$, cực gốc – RS $x_2 = 225$ và cực góp – RS $x_3 = 5.5$ là $\\hat y =101.965298$"
      ]
    },
    {
      "cell_type": "code",
      "metadata": {
        "id": "kpINwFk1cpXm",
        "colab": {
          "base_uri": "https://localhost:8080/"
        },
        "outputId": "83b447b1-6559-46b3-92d0-c210ebefb6aa"
      },
      "source": [
        "# câu 2: kiểm định mô hình HQTT\n",
        "from scipy.stats import f\n",
        "k=3\n",
        "ybar = np.mean(y)\n",
        "SST = sum((y-ybar)**2)\n",
        "SSE = sum((y-yhat)**2)\n",
        "SSR = SST - SSE\n",
        "MSR = SSR/k\n",
        "MSE = SSE/(n-k-1)\n",
        "Fobs = MSR/MSE\n",
        "print(Fobs)\n",
        "p = 1-f.cdf(Fobs,k,n-k-1)\n",
        "print(p)"
      ],
      "execution_count": 59,
      "outputs": [
        {
          "output_type": "stream",
          "text": [
            "[218.94524484]\n",
            "[3.37729844e-13]\n"
          ],
          "name": "stdout"
        }
      ]
    },
    {
      "cell_type": "markdown",
      "metadata": {
        "id": "Mlu24LN2AIYj"
      },
      "source": [
        "Vì p-value = 3.37729844e-13 << 0.05 nên ta kết luận rằng có mối quan hệ tuyến tính giữa biến phụ thuộc $y$ với các biến giải thích $x_1,x_2, x_3$."
      ]
    },
    {
      "cell_type": "code",
      "metadata": {
        "id": "sCX59LzNgZgc",
        "colab": {
          "base_uri": "https://localhost:8080/"
        },
        "outputId": "64f9ccc9-def9-42a7-bb23-910c4034524b"
      },
      "source": [
        "# câu 3: kiểm định hệ số beta1\n",
        "beta_hat1 = beta_hat[1]\n",
        "sigma2 =(1/(n-k-1))*sum((y-yhat)**2)\n",
        "C = np.linalg.inv(X.T.dot(X))\n",
        "C11 = C[1,1]\n",
        "Tobs = beta_hat1/np.sqrt(sigma2*C11)\n",
        "print(Tobs)\n",
        "p1 =2*(1-t.cdf(np.abs(Tobs),n-k-1))\n",
        "print(p1)\n"
      ],
      "execution_count": 60,
      "outputs": [
        {
          "output_type": "stream",
          "text": [
            "[-1.2974294]\n",
            "[0.21287926]\n"
          ],
          "name": "stdout"
        }
      ]
    },
    {
      "cell_type": "markdown",
      "metadata": {
        "id": "evc9iEJwAZwu"
      },
      "source": [
        "Vì p-giá trị = 0.21287926 >> 0.05 nên ta kết luận rằng hệ số khuếch đại của các thiết bị transistor HFE ($y$) không có quan hệ tuyến tính với thông số của cực phát – RS ($x_1$) "
      ]
    },
    {
      "cell_type": "code",
      "metadata": {
        "id": "jrkot0m8knep",
        "colab": {
          "base_uri": "https://localhost:8080/"
        },
        "outputId": "0ec5792b-756a-445a-b785-5cdfb7ea44d0"
      },
      "source": [
        "# câu 4: he so xac dinh cua mo hinh\n",
        "R2 = 1- SSE/SST\n",
        "print(R2)\n",
        "# he so xac dinh đa hieu chinh cua mo hinh\n",
        "R2adj = 1- (SSE/(n-k-1))/(SST/(n-1))\n",
        "print(R2adj)"
      ],
      "execution_count": 61,
      "outputs": [
        {
          "output_type": "stream",
          "text": [
            "[0.97622005]\n",
            "[0.97176131]\n"
          ],
          "name": "stdout"
        }
      ]
    },
    {
      "cell_type": "markdown",
      "metadata": {
        "id": "lH4xZBmJAsJy"
      },
      "source": [
        "Hệ số xác định mô hình $R^2 = 0.97176131$, mô hình HQTT có thể giải thích được 97% sự biến thiên của biến Y thông qua 3 biến $x_1,x_2, x_3$."
      ]
    }
  ]
}