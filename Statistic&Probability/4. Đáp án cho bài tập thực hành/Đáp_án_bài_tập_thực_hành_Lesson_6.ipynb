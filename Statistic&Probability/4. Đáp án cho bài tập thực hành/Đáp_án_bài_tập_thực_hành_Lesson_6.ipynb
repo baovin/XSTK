{
  "cells": [
    {
      "cell_type": "code",
      "execution_count": 1,
      "metadata": {
        "id": "M9GeyhLOr7bO"
      },
      "outputs": [
        {
          "data": {
            "text/plain": [
              "0.09012267246445244"
            ]
          },
          "execution_count": 1,
          "metadata": {},
          "output_type": "execute_result"
        }
      ],
      "source": [
        "# ví dụ minh hoạ 1\n",
        "from scipy.stats import norm\n",
        "import numpy as np\n",
        "mu =12.5\n",
        "sigma =2.5\n",
        "x =10.825\n",
        "norm.cdf(x,mu, sigma)\n",
        "n=4\n",
        "norm.cdf(x,mu, sigma/np.sqrt(n))"
      ]
    },
    {
      "cell_type": "code",
      "execution_count": 18,
      "metadata": {},
      "outputs": [
        {
          "data": {
            "text/plain": [
              "0.006209665325776132"
            ]
          },
          "execution_count": 18,
          "metadata": {},
          "output_type": "execute_result"
        }
      ],
      "source": [
        "norm.cdf(-2.5, 0, 1)"
      ]
    },
    {
      "cell_type": "code",
      "execution_count": 19,
      "metadata": {},
      "outputs": [
        {
          "data": {
            "text/plain": [
              "0.006209665325776132"
            ]
          },
          "execution_count": 19,
          "metadata": {},
          "output_type": "execute_result"
        }
      ],
      "source": [
        "norm.cdf(775, 800, 40/np.sqrt(16))"
      ]
    },
    {
      "cell_type": "code",
      "execution_count": 2,
      "metadata": {
        "id": "xLGANh2Or88N"
      },
      "outputs": [
        {
          "data": {
            "text/plain": [
              "0.002594303776157769"
            ]
          },
          "execution_count": 2,
          "metadata": {},
          "output_type": "execute_result"
        }
      ],
      "source": [
        "# ví dụ minh hoạ 2\n",
        "import numpy as np\n",
        "from scipy.stats import expon\n",
        "from scipy.stats import norm\n",
        "1-expon.cdf(4.5, scale =4)\n",
        "1-norm.cdf(4.5, 4, 4/np.sqrt(50))\n",
        "1- norm.cdf(4.5, 4, 4/np.sqrt(500))"
      ]
    },
    {
      "cell_type": "code",
      "execution_count": 3,
      "metadata": {
        "id": "SoLUL0tAr_Gv"
      },
      "outputs": [
        {
          "data": {
            "text/plain": [
              "0.8627409038993352"
            ]
          },
          "execution_count": 3,
          "metadata": {},
          "output_type": "execute_result"
        }
      ],
      "source": [
        "# ví dụ minh hoạ 3\n",
        "import numpy as np\n",
        "from scipy.stats import norm\n",
        "1- norm.cdf(0, 2000, np.sqrt(pow(10000,2)/50+pow(9000,2)/60))"
      ]
    },
    {
      "cell_type": "code",
      "execution_count": 4,
      "metadata": {
        "id": "lWjOnTl3sCrM"
      },
      "outputs": [
        {
          "data": {
            "text/plain": [
              "1.0"
            ]
          },
          "execution_count": 4,
          "metadata": {},
          "output_type": "execute_result"
        }
      ],
      "source": [
        "# ví dụ minh hoạ 4\n",
        "from scipy.stats import norm\n",
        "import numpy as np\n",
        "p =0.531\n",
        "n=1000\n",
        "sigma =p*(1-p)/n\n",
        "x = 0.5\n",
        "1 - norm.cdf(x,mu, sigma)"
      ]
    }
  ],
  "metadata": {
    "colab": {
      "collapsed_sections": [],
      "name": "Đáp án bài tập thực hành Lesson 6.ipynb",
      "provenance": []
    },
    "kernelspec": {
      "display_name": "Python 3",
      "name": "python3"
    },
    "language_info": {
      "codemirror_mode": {
        "name": "ipython",
        "version": 3
      },
      "file_extension": ".py",
      "mimetype": "text/x-python",
      "name": "python",
      "nbconvert_exporter": "python",
      "pygments_lexer": "ipython3",
      "version": "3.12.4"
    }
  },
  "nbformat": 4,
  "nbformat_minor": 0
}
