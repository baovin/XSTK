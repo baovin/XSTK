{
  "nbformat": 4,
  "nbformat_minor": 0,
  "metadata": {
    "colab": {
      "name": "Đáp án bài tập thực hành Lesson 9.ipynb",
      "provenance": [],
      "collapsed_sections": []
    },
    "kernelspec": {
      "name": "python3",
      "display_name": "Python 3"
    }
  },
  "cells": [
    {
      "cell_type": "code",
      "metadata": {
        "id": "Wdn-bboSxgei",
        "colab": {
          "base_uri": "https://localhost:8080/"
        },
        "outputId": "bf7be566-4507-46ce-9cb6-15b2eb3cb2fb"
      },
      "source": [
        "# Bài thực hành 1\n",
        "import numpy as np\n",
        "import pandas as pd\n",
        "from scipy.stats import t\n",
        "from scipy.stats import f\n",
        "df = pd.read_csv(\"/content/drive/My Drive/Dataset/Lesson9_dataBTTH1.csv\")\n",
        "x = df.values[0:42,0]\n",
        "y = df.values[:,1]\n",
        "n = len(x)\n",
        "m = len(y)\n",
        "xbar =np.mean(x)\n",
        "print(xbar)\n",
        "ybar =np.mean(y)\n",
        "print(ybar)\n",
        "s12 = np.var(x)\n",
        "print(s12)\n",
        "s22 = np.var(y)\n",
        "print(s22)\n",
        "Fobs = s12/s22\n",
        "print(Fobs)\n",
        "p1 = f.cdf(Fobs,n-1,m-1)+1-f.cdf(1/Fobs,n-1,m-1)\n",
        "print(p1)\n",
        "tobs =(xbar - ybar)/np.sqrt(s12/n+s22/m)\n",
        "print(tobs)\n",
        "nu = round((s12/n+s22/m)**2/((s12/n)**2/(n-1)+(s22/m)**2/(m-1)))\n",
        "print(nu)\n",
        "p2 =2*(1-t.cdf(np.abs(tobs),nu))\n",
        "print(p2)"
      ],
      "execution_count": null,
      "outputs": [
        {
          "output_type": "stream",
          "text": [
            "-0.1\n",
            "1.2359183673469387\n",
            "3.697276190476191\n",
            "7.9527894627238656\n",
            "0.4649030642400355\n",
            "0.004653292386531449\n",
            "-3.247908188390067\n",
            "111.0\n",
            "0.0015381420117346334\n"
          ],
          "name": "stdout"
        }
      ]
    },
    {
      "cell_type": "code",
      "metadata": {
        "id": "GSVG0yKJddZ3",
        "colab": {
          "base_uri": "https://localhost:8080/"
        },
        "outputId": "4b960670-faa6-43d0-fb2e-d8ade32c8326"
      },
      "source": [
        "# bài thực hành 2\n",
        "from scipy.stats import mannwhitneyu\n",
        "x=[35, 38, 40, 42, 41, 36]\n",
        "y=[29, 27, 30, 33, 39, 37]\n",
        "# compare samples\n",
        "stat, p = mannwhitneyu(x, y)\n",
        "print('Statistics=%.3f, p=%.3f' % (stat, p))\n",
        "# interpret\n",
        "alpha = 0.05\n",
        "if p > alpha:\n",
        "\tprint('Same distribution (fail to reject H0)')\n",
        "else:\n",
        "\tprint('Different distribution (reject H0)')"
      ],
      "execution_count": null,
      "outputs": [
        {
          "output_type": "stream",
          "text": [
            "Statistics=5.000, p=0.023\n",
            "Different distribution (reject H0)\n"
          ],
          "name": "stdout"
        }
      ]
    },
    {
      "cell_type": "code",
      "metadata": {
        "id": "DXWzDO5S3RjP",
        "colab": {
          "base_uri": "https://localhost:8080/"
        },
        "outputId": "b9554eae-ed5f-4041-ee4e-53c479acdbf7"
      },
      "source": [
        "# bài thực hành 3\n",
        "import numpy as np\n",
        "import pandas as pd\n",
        "from scipy.stats import t\n",
        "df = pd.read_csv(\"/content/drive/My Drive/Dataset/Lesson9_dataBTTH2.csv\")\n",
        "x = df.values[:,1]\n",
        "y = df.values[:,2]\n",
        "n = len(x)\n",
        "print(n)\n",
        "xbar =np.mean(x)\n",
        "print(xbar)\n",
        "ybar =np.mean(y)\n",
        "print(ybar)\n",
        "xybar =np.mean(x*y)\n",
        "print(xybar)\n",
        "x2bar =np.mean(pow(x,2))\n",
        "print(x2bar)\n",
        "y2bar =np.mean(pow(y,2))\n",
        "print(y2bar)\n",
        "r =(xybar - xbar*ybar)/np.sqrt((x2bar - pow(xbar,2))*(y2bar - pow(ybar,2)))\n",
        "print(r)\n",
        "tobs = r*np.sqrt((n-2)/(1-pow(r,2)))\n",
        "print(tobs)\n",
        "p =2*(1-t.cdf(tobs,n-2))\n",
        "print(p)\n"
      ],
      "execution_count": null,
      "outputs": [
        {
          "output_type": "stream",
          "text": [
            "20\n",
            "74.25\n",
            "24.2415\n",
            "1801.4855000000002\n",
            "5561.25\n",
            "595.9658549999999\n",
            "0.07763788748599172\n",
            "0.3303868922038654\n",
            "0.7449220959070137\n"
          ],
          "name": "stdout"
        }
      ]
    }
  ]
}