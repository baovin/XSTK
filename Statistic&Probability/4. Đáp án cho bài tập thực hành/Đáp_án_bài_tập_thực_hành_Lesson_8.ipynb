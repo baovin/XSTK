{
  "nbformat": 4,
  "nbformat_minor": 0,
  "metadata": {
    "colab": {
      "name": "Đáp án bài tập thực hành Lesson 8.ipynb",
      "provenance": [],
      "collapsed_sections": []
    },
    "kernelspec": {
      "name": "python3",
      "display_name": "Python 3"
    }
  },
  "cells": [
    {
      "cell_type": "code",
      "metadata": {
        "colab": {
          "base_uri": "https://localhost:8080/"
        },
        "id": "ceesDCHV1w4D",
        "outputId": "393847c6-71b6-4702-96d6-f2f7c36e23c4"
      },
      "source": [
        "from google.colab import drive\n",
        "drive.mount('/content/drive')"
      ],
      "execution_count": null,
      "outputs": [
        {
          "output_type": "stream",
          "text": [
            "Mounted at /content/drive\n"
          ],
          "name": "stdout"
        }
      ]
    },
    {
      "cell_type": "code",
      "metadata": {
        "id": "lZQwthsMrpWs",
        "colab": {
          "base_uri": "https://localhost:8080/"
        },
        "outputId": "d577da77-c723-40d9-df0b-bc1e8a6019ee"
      },
      "source": [
        "# Bài thực hành 8.1\n",
        "import numpy as np\n",
        "import pandas as pd\n",
        "from scipy.stats import t\n",
        "df = pd.read_csv(\"/content/drive/My Drive/Dataset/Lesson8_dataBTTH1.csv\")\n",
        "x = df.values[:,0]\n",
        "n = len(x)\n",
        "print(n)\n",
        "xbar =np.mean(x)\n",
        "print(xbar)\n",
        "s = np.std(x)\n",
        "print(s)\n",
        "mu0 = 2\n",
        "tobs =(xbar - mu0)/(s/np.sqrt(n))\n",
        "print(tobs)\n",
        "pvalue = 1- t.cdf(tobs,n-1)\n",
        "print(pvalue)"
      ],
      "execution_count": null,
      "outputs": [
        {
          "output_type": "stream",
          "text": [
            "148\n",
            "2.1804054054054047\n",
            "0.9778395092839763\n",
            "2.2444649246516963\n",
            "0.013147955036750925\n"
          ],
          "name": "stdout"
        }
      ]
    },
    {
      "cell_type": "markdown",
      "metadata": {
        "id": "_KDKhWV63gj0"
      },
      "source": [
        "Vì p-giá trị = 0.013 << 0.05 nên ta bác bỏ H0.\n",
        "Kết luận: Những dữ liệu này có cung cấp đủ cơ sở để cho phép nhà phân tích kết luận rằng nhà máy tái chế sẽ có lãi ở mức ý nghĩa 5%."
      ]
    },
    {
      "cell_type": "code",
      "metadata": {
        "id": "Dxe4FKuS4Gjq",
        "colab": {
          "base_uri": "https://localhost:8080/"
        },
        "outputId": "b9b50c7b-b9df-4d60-ab79-a64665a1a99d"
      },
      "source": [
        "# Bài thực hành 8.2\n",
        "import numpy as np\n",
        "import pandas as pd\n",
        "from scipy.stats import t\n",
        "df = pd.read_csv(\"/content/drive/My Drive/Dataset/Lesson8_dataBTTH2.csv\")\n",
        "x = df.values[:,0]\n",
        "n = len(x)\n",
        "print(n)\n",
        "xbar =np.mean(x)\n",
        "print(xbar)\n",
        "s = np.std(x)\n",
        "print(s)\n",
        "theta0 = 0.5/100\n",
        "mu0 = 1/theta0\n",
        "tobs =(xbar - mu0)/(s/np.sqrt(n))\n",
        "print(tobs)\n",
        "pvalue = t.cdf(tobs,n-1)\n",
        "print(pvalue)"
      ],
      "execution_count": 4,
      "outputs": [
        {
          "output_type": "stream",
          "text": [
            "72\n",
            "98.15277777777777\n",
            "78.74231174502447\n",
            "-10.975069420599855\n",
            "3.0023864228087376e-17\n"
          ],
          "name": "stdout"
        }
      ]
    },
    {
      "cell_type": "markdown",
      "metadata": {
        "id": "M2k2L2o3l5Ah"
      },
      "source": [
        "vì p-giá trị xấp xỉ 0 nên ta bác bỏ H0.\n",
        "KL: có thể cho rằng tham số $\\theta$ lớn hơn 0.5%."
      ]
    }
  ]
}