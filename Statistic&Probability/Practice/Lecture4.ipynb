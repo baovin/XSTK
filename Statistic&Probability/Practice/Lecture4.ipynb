{
 "cells": [
  {
   "cell_type": "code",
   "execution_count": 2,
   "metadata": {},
   "outputs": [
    {
     "name": "stdout",
     "output_type": "stream",
     "text": [
      "[[0.38 0.17]\n",
      " [0.14 0.02]\n",
      " [0.24 0.05]]\n"
     ]
    }
   ],
   "source": [
    "import numpy as np\n",
    "x = np.array([0,1])  # Giá trị X có thể nhận\n",
    "y = np.array([0,1,2])   # Giá trị Y có thể nhận\n",
    "jpmf = np.array([[0.38,0.17], [0.14,0.02], [0.24,0.05]])  #Ma trận trọng số\n",
    "\n",
    "print(jpmf)"
   ]
  },
  {
   "cell_type": "code",
   "execution_count": 4,
   "metadata": {},
   "outputs": [
    {
     "name": "stdout",
     "output_type": "stream",
     "text": [
      "[0.76, 0.24]\n"
     ]
    }
   ],
   "source": [
    "pmfx = [] # hàm trọng số biên của X\n",
    "\n",
    "for i in x:\n",
    "    pmfx.append(jpmf[:,i].sum())\n",
    "\n",
    "print(pmfx)    "
   ]
  },
  {
   "cell_type": "code",
   "execution_count": 5,
   "metadata": {},
   "outputs": [
    {
     "name": "stdout",
     "output_type": "stream",
     "text": [
      "[0.55, 0.16, 0.29]\n"
     ]
    }
   ],
   "source": [
    "pmfy = [] # hàm trọng số biên của Y\n",
    "\n",
    "for i in y:\n",
    "    pmfy.append(jpmf[i,:].sum())\n",
    "\n",
    "print(pmfy)    "
   ]
  },
  {
   "cell_type": "code",
   "execution_count": 6,
   "metadata": {},
   "outputs": [],
   "source": [
    "EX = np.sum(x*pmfx); EY = np.sum(y*pmfy) # kỳ vọng của từng biến\n",
    "\n",
    "varX = np.sum((x-EX)**2*pmfx); varY = np.sum((y-EY)**2*pmfy) # phương sai\n"
   ]
  },
  {
   "cell_type": "code",
   "execution_count": 7,
   "metadata": {},
   "outputs": [
    {
     "name": "stdout",
     "output_type": "stream",
     "text": [
      "0.12000000000000001\n"
     ]
    }
   ],
   "source": [
    "EXY = 0\n",
    "\n",
    "for i in x: \n",
    "    for j in y:\n",
    "        EXY = EXY + i*j*jpmf[j,i]\n",
    "\n",
    "\n",
    "print(EXY)        "
   ]
  },
  {
   "cell_type": "code",
   "execution_count": 8,
   "metadata": {},
   "outputs": [],
   "source": [
    "cov = EXY - EX*EY"
   ]
  },
  {
   "cell_type": "code",
   "execution_count": 9,
   "metadata": {},
   "outputs": [
    {
     "ename": "TypeError",
     "evalue": "jointplot() takes from 0 to 1 positional arguments but 2 were given",
     "output_type": "error",
     "traceback": [
      "\u001b[1;31m---------------------------------------------------------------------------\u001b[0m",
      "\u001b[1;31mTypeError\u001b[0m                                 Traceback (most recent call last)",
      "Cell \u001b[1;32mIn[9], line 7\u001b[0m\n\u001b[0;32m      4\u001b[0m cov \u001b[38;5;241m=\u001b[39m [[\u001b[38;5;241m81\u001b[39m,\u001b[38;5;241m0.6\u001b[39m], [\u001b[38;5;241m0.6\u001b[39m,\u001b[38;5;241m36\u001b[39m]]\n\u001b[0;32m      6\u001b[0m chieu_cao, can_nang \u001b[38;5;241m=\u001b[39m np\u001b[38;5;241m.\u001b[39mrandom\u001b[38;5;241m.\u001b[39mmultivariate_normal(mean, cov, \u001b[38;5;241m1000\u001b[39m)\u001b[38;5;241m.\u001b[39mT\n\u001b[1;32m----> 7\u001b[0m sns\u001b[38;5;241m.\u001b[39mjointplot(chieu_cao,can_nang, stat_func\u001b[38;5;241m=\u001b[39m\u001b[38;5;28;01mNone\u001b[39;00m)\u001b[38;5;241m.\u001b[39mset_axis_labels(\u001b[38;5;124m\"\u001b[39m\u001b[38;5;124mchiều cao\u001b[39m\u001b[38;5;124m\"\u001b[39m, \u001b[38;5;124m\"\u001b[39m\u001b[38;5;124mcân nặng\u001b[39m\u001b[38;5;124m\"\u001b[39m)\n",
      "\u001b[1;31mTypeError\u001b[0m: jointplot() takes from 0 to 1 positional arguments but 2 were given"
     ]
    }
   ],
   "source": [
    "import seaborn as sns\n",
    "\n",
    "mean = [165,55]\n",
    "cov = [[81,0.6], [0.6,36]]\n",
    "\n",
    "chieu_cao, can_nang = np.random.multivariate_normal(mean, cov, 1000).T\n",
    "sns.jointplot(chieu_cao, can_nang, stat_func=None).set_axis_labels(\"chiều cao\", \"cân nặng\")"
   ]
  },
  {
   "cell_type": "code",
   "execution_count": 12,
   "metadata": {},
   "outputs": [
    {
     "name": "stdout",
     "output_type": "stream",
     "text": [
      "[[0.1  0.2  0.1 ]\n",
      " [0.15 0.05 0.2 ]\n",
      " [0.05 0.1  0.05]]\n"
     ]
    }
   ],
   "source": [
    "x = np.array([0,1,2])  # Giá trị X có thể nhận\n",
    "y = np.array([0,1,2])   # Giá trị Y có thể nhận\n",
    "\n",
    "joint_pmf = np.array([[0.1, 0.2, 0.1], [0.15, 0.05, 0.2], [0.05, 0.1, 0.05]])\n",
    "\n",
    "print(joint_pmf)"
   ]
  },
  {
   "cell_type": "code",
   "execution_count": 17,
   "metadata": {},
   "outputs": [],
   "source": [
    "joint_pmf = {\n",
    "    (0,0): 0.1,\n",
    "    (0,1): 0.2,\n",
    "    (0,2): 0.1,\n",
    "    (1,0): 0.15,\n",
    "    (1,1): 0.05,\n",
    "    (1,2): 0.2,\n",
    "    (2,0): 0.05,\n",
    "    (2,1): 0.1,\n",
    "    (2,2): 0.05,\n",
    "\n",
    "}\n",
    "\n"
   ]
  },
  {
   "cell_type": "code",
   "execution_count": 18,
   "metadata": {},
   "outputs": [
    {
     "name": "stdout",
     "output_type": "stream",
     "text": [
      "Join pmf P(X=x, Y=y):\n",
      "P(X=0, Y=0) = 0.10\n",
      "P(X=0, Y=1) = 0.20\n",
      "P(X=0, Y=2) = 0.10\n",
      "P(X=1, Y=0) = 0.15\n",
      "P(X=1, Y=1) = 0.05\n",
      "P(X=1, Y=2) = 0.20\n",
      "P(X=2, Y=0) = 0.05\n",
      "P(X=2, Y=1) = 0.10\n",
      "P(X=2, Y=2) = 0.05\n"
     ]
    }
   ],
   "source": [
    "print(\"Join pmf P(X=x, Y=y):\")\n",
    "for (x,y), prob in joint_pmf.items():\n",
    "    print(f\"P(X={x}, Y={y}) = {prob:.2f}\")\n",
    "total_prob = sum(joint_pmf.values())    "
   ]
  },
  {
   "cell_type": "code",
   "execution_count": 19,
   "metadata": {},
   "outputs": [
    {
     "name": "stdout",
     "output_type": "stream",
     "text": [
      "Marginal PMF P(X=x):\n",
      "P(X=0)=0.40\n",
      "P(X=1)=0.40\n",
      "P(X=2)=0.20\n",
      "Marginal PMF P(Y=y):\n",
      "P(X=0)=0.30\n",
      "P(X=1)=0.35\n",
      "P(X=2)=0.35\n"
     ]
    }
   ],
   "source": [
    "marginal_pmf_X = {}\n",
    "marginal_pmf_Y = {}\n",
    "\n",
    "for (x,y), prob in joint_pmf.items():\n",
    "    if x not in marginal_pmf_X:\n",
    "        marginal_pmf_X[x]=0\n",
    "    marginal_pmf_X[x]+=prob\n",
    "\n",
    "# Compute the marginal PMF for Y\n",
    "for (x,y), prob in joint_pmf.items():\n",
    "    if y not in marginal_pmf_Y:\n",
    "        marginal_pmf_Y[y]=0\n",
    "    marginal_pmf_Y[y]+=prob\n",
    "\n",
    "\n",
    "print(\"Marginal PMF P(X=x):\")\n",
    "for x, prob in marginal_pmf_X.items():\n",
    "    print(f\"P(X={x})={prob:.2f}\")\n",
    "\n",
    "\n",
    "print(\"Marginal PMF P(Y=y):\")\n",
    "for y, prob in marginal_pmf_Y.items():\n",
    "    print(f\"P(X={y})={prob:.2f}\")\n",
    "    \n",
    "\n"
   ]
  },
  {
   "cell_type": "code",
   "execution_count": 22,
   "metadata": {},
   "outputs": [
    {
     "name": "stdout",
     "output_type": "stream",
     "text": [
      "Probability when X>1 and Y>0: 0.15\n"
     ]
    }
   ],
   "source": [
    "probability = 0\n",
    "\n",
    "\n",
    "for (x,y), prob in joint_pmf.items():\n",
    "    if x>1 and y>0:\n",
    "        probability += prob\n",
    "print(\"Probability when X>1 and Y>0:\", f\"{probability:.2f}\")        \n",
    "        "
   ]
  },
  {
   "cell_type": "code",
   "execution_count": 23,
   "metadata": {},
   "outputs": [
    {
     "name": "stdout",
     "output_type": "stream",
     "text": [
      "Probability when X<=1 and Y>=1: 0.55\n"
     ]
    }
   ],
   "source": [
    "probability = 0\n",
    "for (x,y), prob in joint_pmf.items():\n",
    "    if x<=1 and y>=1:\n",
    "        probability += prob\n",
    "print(\"Probability when X<=1 and Y>=1:\", f\"{probability:.2f}\")    "
   ]
  },
  {
   "cell_type": "code",
   "execution_count": 25,
   "metadata": {},
   "outputs": [
    {
     "name": "stdout",
     "output_type": "stream",
     "text": [
      "Probability when X<=1 in case Y>=1: 0.79\n"
     ]
    }
   ],
   "source": [
    "\n",
    "p_XY = 0\n",
    "P_Y = 0\n",
    "for (x,y), prob in joint_pmf.items():\n",
    "    if x<=1 and y>=1:\n",
    "        p_XY += prob\n",
    "    if y>=1:\n",
    "        P_Y += prob    \n",
    "print(\"Probability when X<=1 in case Y>=1:\", f\"{p_XY/P_Y:.2f}\")   \n",
    "\n",
    "\n",
    "\n"
   ]
  },
  {
   "cell_type": "markdown",
   "metadata": {},
   "source": [
    "## Homework"
   ]
  },
  {
   "cell_type": "markdown",
   "metadata": {},
   "source": [
    "Bài tập 4.1:\n",
    "cho bảng phân phối xác suất như dưới đây. \n",
    "1. Tìm hàm phân phối biên của X, Y\n",
    "2. Tìm kỳ vọng, phương sai của X,Y\n",
    "3. Tìm $cov(X,Y)$, hệ số tương quan\n",
    "4. Tìm ma trận hiệp phương sai của $(X,Y)$"
   ]
  },
  {
   "cell_type": "code",
   "execution_count": 5,
   "metadata": {},
   "outputs": [
    {
     "name": "stdout",
     "output_type": "stream",
     "text": [
      "1.0\n"
     ]
    }
   ],
   "source": [
    "\n",
    "\n",
    "joint_pmf = {\n",
    "    (0,0): 0.08,\n",
    "    (0,1): 0.09,\n",
    "    (0,2): 0.05,\n",
    "    (1,0): 0.14,\n",
    "    (1,1): 0.17,\n",
    "    (1,2): 0.18,\n",
    "    (2,0): 0.12,\n",
    "    (2,1): 0.13,\n",
    "    (2,2): 0.04\n",
    "}\n",
    "\n",
    "print(sum(joint_pmf.values()))"
   ]
  },
  {
   "cell_type": "code",
   "execution_count": 11,
   "metadata": {},
   "outputs": [
    {
     "name": "stdout",
     "output_type": "stream",
     "text": [
      "1.0\n"
     ]
    }
   ],
   "source": [
    "marginal_pmf_X = {}\n",
    "marginal_pmf_Y = {}\n",
    "for (x,y), prob in joint_pmf.items():\n",
    "        if x not in marginal_pmf_X:\n",
    "                marginal_pmf_X[x] = 0\n",
    "        marginal_pmf_X[x]+=prob \n",
    "\n",
    "        if y not in marginal_pmf_Y:\n",
    "                marginal_pmf_Y[y] = 0\n",
    "        marginal_pmf_Y[y]+=prob       \n",
    "\n",
    "\n",
    "print(sum(marginal_pmf_X.values()))\n",
    "\n"
   ]
  },
  {
   "cell_type": "code",
   "execution_count": 18,
   "metadata": {},
   "outputs": [],
   "source": [
    "import numpy as np"
   ]
  },
  {
   "cell_type": "code",
   "execution_count": 22,
   "metadata": {},
   "outputs": [
    {
     "data": {
      "text/plain": [
       "1.07"
      ]
     },
     "execution_count": 22,
     "metadata": {},
     "output_type": "execute_result"
    }
   ],
   "source": [
    "EX = 0\n",
    "for key, value in marginal_pmf_X.items():\n",
    "    EX  += key*value\n",
    "\n",
    "EX    "
   ]
  },
  {
   "cell_type": "code",
   "execution_count": 23,
   "metadata": {},
   "outputs": [
    {
     "data": {
      "text/plain": [
       "0.9299999999999999"
      ]
     },
     "execution_count": 23,
     "metadata": {},
     "output_type": "execute_result"
    }
   ],
   "source": [
    "EY = 0\n",
    "for key, value in marginal_pmf_Y.items():\n",
    "    EY  += key*value\n",
    "\n",
    "EY"
   ]
  },
  {
   "cell_type": "markdown",
   "metadata": {},
   "source": [
    "$cov(X,Y)= E(XY)-EX*EY$"
   ]
  },
  {
   "cell_type": "code",
   "execution_count": 24,
   "metadata": {},
   "outputs": [
    {
     "data": {
      "text/plain": [
       "0.9500000000000001"
      ]
     },
     "execution_count": 24,
     "metadata": {},
     "output_type": "execute_result"
    }
   ],
   "source": [
    "EXY = 0\n",
    "for (x,y), prob in joint_pmf.items():\n",
    "    EXY += x*y*prob\n",
    "\n",
    "EXY    "
   ]
  },
  {
   "cell_type": "code",
   "execution_count": 26,
   "metadata": {},
   "outputs": [
    {
     "data": {
      "text/plain": [
       "-0.04509999999999992"
      ]
     },
     "execution_count": 26,
     "metadata": {},
     "output_type": "execute_result"
    }
   ],
   "source": [
    "covXY = EXY - EX*EY\n",
    "\n",
    "covXY"
   ]
  },
  {
   "cell_type": "markdown",
   "metadata": {},
   "source": [
    "#### Covariance matrix "
   ]
  },
  {
   "cell_type": "code",
   "execution_count": 31,
   "metadata": {},
   "outputs": [
    {
     "name": "stdout",
     "output_type": "stream",
     "text": [
      "0.4083\n",
      "0.29789999999999994\n"
     ]
    }
   ],
   "source": [
    "EX2 = 0\n",
    "EY2 = 0\n",
    "for key, value in marginal_pmf_X.items():\n",
    "    EX2  += key*value**2\n",
    "for key, value in marginal_pmf_Y.items():\n",
    "    EY2  += key*value**2    \n",
    "\n",
    "print(EX2, EY2, sep='\\n')   "
   ]
  },
  {
   "cell_type": "code",
   "execution_count": 32,
   "metadata": {},
   "outputs": [],
   "source": [
    "varX = EX - EX2\n",
    "varY = EY - EY2\n"
   ]
  },
  {
   "cell_type": "code",
   "execution_count": 36,
   "metadata": {},
   "outputs": [
    {
     "data": {
      "text/plain": [
       "array([[0.6617, 0.95  ],\n",
       "       [0.95  , 0.6321]])"
      ]
     },
     "execution_count": 36,
     "metadata": {},
     "output_type": "execute_result"
    }
   ],
   "source": [
    "covXY = np.array([[varX, EXY], [EXY, varY]])\n",
    "covXY"
   ]
  },
  {
   "cell_type": "markdown",
   "metadata": {},
   "source": [
    "#### Bài tập 4.2:\n",
    "Cho hai biến ngẫu nhiên tuân theo luật phân phối chuẩn độc lập với nhau có kỳ vọng lần lượt là 30, 40 và độ lệch chuẩn là 2 và 3\n",
    "1. Tìm ma trận hiệp phương sai\n",
    "2. Biểu diễn vecto kỳ vọng, ma trận hiệp phương sai qua python\n",
    "3. Dùng lệnh np.random.multivariate_normal để tạo ra 500 giá trị\n",
    "4. Vẽ đồ thị các giá trị đồng mà $(X,Y)$ có thể nhận và phân phối biên trong cùng một đồ thị."
   ]
  },
  {
   "cell_type": "code",
   "execution_count": null,
   "metadata": {},
   "outputs": [],
   "source": []
  },
  {
   "cell_type": "markdown",
   "metadata": {},
   "source": [
    "$F(x)= x*e^{-x}$ with $x>=0$ and\n",
    "$F(x)= 0$ with $x<0$"
   ]
  },
  {
   "cell_type": "code",
   "execution_count": 47,
   "metadata": {},
   "outputs": [
    {
     "data": {
      "text/plain": [
       "2.0"
      ]
     },
     "execution_count": 47,
     "metadata": {},
     "output_type": "execute_result"
    }
   ],
   "source": [
    "from scipy.integrate import quad\n",
    "import numpy as np\n",
    "# count the expected\n",
    "def ham_f(x):\n",
    "    return x**2*np.exp(-x)\n",
    "\n",
    "I = quad(ham_f, 0, np.inf)[0]\n",
    "I"
   ]
  },
  {
   "cell_type": "code",
   "execution_count": 51,
   "metadata": {},
   "outputs": [
    {
     "name": "stdout",
     "output_type": "stream",
     "text": [
      "0.19914827347145575\n"
     ]
    }
   ],
   "source": [
    "# tuoi tho bong den lon hon 3\n",
    "def prob(x):\n",
    "    return x*np.exp(-x)\n",
    "p = quad(prob, 3, np.Inf)[0]\n",
    "print(p)"
   ]
  },
  {
   "cell_type": "code",
   "execution_count": 58,
   "metadata": {},
   "outputs": [
    {
     "name": "stdout",
     "output_type": "stream",
     "text": [
      "59\n",
      "247\n",
      "0.01694915254237288\n",
      "0.01694915254237288\n"
     ]
    }
   ],
   "source": [
    "\n",
    "a = np.random.randint(0,1000)\n",
    "b = np.random.randint(0,1000)\n",
    "\n",
    "def ham_pdf_x(y):\n",
    "    return 1/a*1/b\n",
    "\n",
    "print(a,b,sep='\\n')\n",
    "I = quad(ham_pdf_x, 0, b)[0]\n",
    "\n",
    "print(I)\n",
    "print(1/a)\n"
   ]
  },
  {
   "cell_type": "code",
   "execution_count": null,
   "metadata": {},
   "outputs": [],
   "source": []
  }
 ],
 "metadata": {
  "kernelspec": {
   "display_name": "base",
   "language": "python",
   "name": "python3"
  },
  "language_info": {
   "codemirror_mode": {
    "name": "ipython",
    "version": 3
   },
   "file_extension": ".py",
   "mimetype": "text/x-python",
   "name": "python",
   "nbconvert_exporter": "python",
   "pygments_lexer": "ipython3",
   "version": "3.12.4"
  }
 },
 "nbformat": 4,
 "nbformat_minor": 2
}
